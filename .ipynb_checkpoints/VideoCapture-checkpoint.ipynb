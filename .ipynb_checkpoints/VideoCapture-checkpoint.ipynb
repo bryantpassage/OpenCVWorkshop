{
  "cells": [
    {
      "metadata": {
        "collapsed": true
      },
      "cell_type": "markdown",
      "source": "<h1>Video Capture</h1>"
    },
    {
      "metadata": {},
      "cell_type": "markdown",
      "source": "<p>Here we will show you how to capture video in your webcam with this simple script</p>"
    },
    {
      "metadata": {
        "trusted": true
      },
      "cell_type": "code",
      "source": "import numpy as np # First we need our imports\nimport cv2\nimport matplotlib.pyplot as plt",
      "execution_count": null,
      "outputs": []
    },
    {
      "metadata": {},
      "cell_type": "markdown",
      "source": "<p>We use a cv2 method called <b>Video Capture</b> to capture our webcam</p>"
    },
    {
      "metadata": {},
      "cell_type": "markdown",
      "source": "<p>Note: This is OS dependent so it might create some trouble</p>"
    },
    {
      "metadata": {
        "trusted": true
      },
      "cell_type": "code",
      "source": "# Get the video \ncapture = cv2.VideoCapture(0) # 0 indicates that it is continuous\n\n# now we loop the video feed\nwhile(True): # True makes it forever\n    ret, frame = capture.read() # read a frame \n    \n    frame = cv2.resize(frame, (0,0), fx=0.5, fy=0.5)\n    cv2.imshow(\"Frame\",frame)\n    \n    \n    ch = cv2.waitKey(1) #Indicated to run every 1 second\n    if ch & 0xFF == ord('q'): # Our statement to break out of the loop\n        break \n    \n\ncapture.release() # Dont forget this line\ncv2.destroyAllWindows()\n    \n    ",
      "execution_count": null,
      "outputs": []
    },
    {
      "metadata": {
        "trusted": true
      },
      "cell_type": "code",
      "source": "",
      "execution_count": null,
      "outputs": []
    },
    {
      "metadata": {
        "trusted": true
      },
      "cell_type": "code",
      "source": "",
      "execution_count": null,
      "outputs": []
    },
    {
      "metadata": {
        "trusted": true
      },
      "cell_type": "code",
      "source": "",
      "execution_count": null,
      "outputs": []
    },
    {
      "metadata": {
        "trusted": true
      },
      "cell_type": "code",
      "source": "",
      "execution_count": null,
      "outputs": []
    },
    {
      "metadata": {
        "trusted": true
      },
      "cell_type": "code",
      "source": "",
      "execution_count": null,
      "outputs": []
    },
    {
      "metadata": {
        "trusted": true
      },
      "cell_type": "code",
      "source": "",
      "execution_count": null,
      "outputs": []
    },
    {
      "metadata": {
        "trusted": true
      },
      "cell_type": "code",
      "source": "",
      "execution_count": null,
      "outputs": []
    },
    {
      "metadata": {
        "trusted": true
      },
      "cell_type": "code",
      "source": "",
      "execution_count": null,
      "outputs": []
    },
    {
      "metadata": {
        "trusted": true
      },
      "cell_type": "code",
      "source": "",
      "execution_count": null,
      "outputs": []
    }
  ],
  "metadata": {
    "kernelspec": {
      "name": "python36",
      "display_name": "Python 3.6",
      "language": "python"
    },
    "language_info": {
      "mimetype": "text/x-python",
      "nbconvert_exporter": "python",
      "name": "python",
      "pygments_lexer": "ipython3",
      "version": "3.6.6",
      "file_extension": ".py",
      "codemirror_mode": {
        "version": 3,
        "name": "ipython"
      }
    }
  },
  "nbformat": 4,
  "nbformat_minor": 2
}