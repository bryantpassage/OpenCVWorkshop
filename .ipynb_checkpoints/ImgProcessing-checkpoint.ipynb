{
  "cells": [
    {
      "metadata": {},
      "cell_type": "markdown",
      "source": "<h1>This is an intro into image processing\n</h1>"
    },
    {
      "metadata": {},
      "cell_type": "markdown",
      "source": "<h3>Concepts you will learn</h3>\n<ul>\n    <li>Data types and structures</li>\n    <li>Image types and color channels</li>\n    <li>Pixel maniuplation and filtering</li>\n    <li>Blur, dialation, and erosion</li>\n    <li>Scale and rotate images</li>\n</ul>"
    },
    {
      "metadata": {},
      "cell_type": "markdown",
      "source": "<h3 >1. Getting Started with OpenCV\n</h3>\n<p>We need to import <b>cv2</b> which is the library name, and numpy since <b>cv2</b> uses numpy arrays</p>\n"
    },
    {
      "metadata": {
        "trusted": true
      },
      "cell_type": "code",
      "source": "",
      "execution_count": null,
      "outputs": []
    },
    {
      "metadata": {
        "trusted": true
      },
      "cell_type": "code",
      "source": "import numpy as np\nimport cv2\nimport matplotlib.pyplot as plt",
      "execution_count": null,
      "outputs": []
    },
    {
      "metadata": {},
      "cell_type": "markdown",
      "source": "<p>1.1 To read an image we use the <b>imread</b> functio inside <b>cv2</b> library</p>\n<p>Note: This function will return <b>None</b> if it cannot find the image</p>"
    },
    {
      "metadata": {
        "trusted": true
      },
      "cell_type": "code",
      "source": "image = cv2.imread(\"butterfly.jpg\")",
      "execution_count": null,
      "outputs": []
    },
    {
      "metadata": {},
      "cell_type": "markdown",
      "source": "<p>1.2 If we print out <b>image</b> we will see the array of pixels</p>\n<p>Similarly, if we print out the type we will see that it is a numpy array</p>"
    },
    {
      "metadata": {
        "trusted": true
      },
      "cell_type": "code",
      "source": "print(image)\ntype(image)",
      "execution_count": null,
      "outputs": []
    },
    {
      "metadata": {},
      "cell_type": "markdown",
      "source": "<p>We can also see the shape of the array by doing this:</p>"
    },
    {
      "metadata": {
        "trusted": true
      },
      "cell_type": "code",
      "source": "image.shape",
      "execution_count": null,
      "outputs": []
    },
    {
      "metadata": {},
      "cell_type": "markdown",
      "source": "<p>In this case the first value is the number of rows, the second is the number of columns, and the third value is the number of color channels (red, green, blue).</p>"
    },
    {
      "metadata": {},
      "cell_type": "markdown",
      "source": "<p>Since <b>imshow</b> works with np arrays, we could create any sort of image we want, if we specifiy the correct dimensions.</p> <p>For example, if we wanted to create an all black image we could do:</p>"
    },
    {
      "metadata": {
        "trusted": true
      },
      "cell_type": "code",
      "source": "blackImage = np.zeros([150,200,1],'uint8')\n# cv2.imshow(\"Black\",blackImage)\nblkImage = np.zeros([150,200,3],'uint8') #Another way to make a black image\nblkImage[:,:] = (0,0,0) # Sets the color channels to the rgb format for black\n# cv2.imshow(\"Blk\",blkImage) We wont do this now\n# cv2.waitKey(0) make sure in your own projects you use these\n# cv2.destroyAllWindows()\nplt.imshow(blkImage) # Use this for now\nplt.show()",
      "execution_count": null,
      "outputs": []
    },
    {
      "metadata": {},
      "cell_type": "markdown",
      "source": "<p>Another way to draw images is with <b>matplotlib</b>.</p>\n<p>Of course when doing this, we need to make sure that we convert the image into RGB, because by default \n    cv2 reads it in as BGR</p>"
    },
    {
      "metadata": {
        "trusted": true
      },
      "cell_type": "code",
      "source": "plt.imshow(image) # Image before correction\nplt.show()",
      "execution_count": null,
      "outputs": []
    },
    {
      "metadata": {
        "trusted": true
      },
      "cell_type": "code",
      "source": "image = cv2.cvtColor(image, cv2.COLOR_BGR2RGB)\nplt.imshow(image) # Image after correction\nplt.show()",
      "execution_count": null,
      "outputs": []
    },
    {
      "metadata": {},
      "cell_type": "markdown",
      "source": "<h3>2. Pixel maniuplation and filtering </h3>"
    },
    {
      "metadata": {},
      "cell_type": "markdown",
      "source": "<p>2.1 Again lets start by reading in an image</p>"
    },
    {
      "metadata": {
        "trusted": true
      },
      "cell_type": "code",
      "source": "colorImage = cv2.imread(\"donald.jpg\",1)\ncolorImage = cv2.cvtColor(colorImage, cv2.COLOR_BGR2RGB)\nplt.imshow(colorImage) \nplt.show() ",
      "execution_count": null,
      "outputs": []
    },
    {
      "metadata": {},
      "cell_type": "markdown",
      "source": "<p>2.2 Read the image as gray scale</p>"
    },
    {
      "metadata": {
        "trusted": true
      },
      "cell_type": "code",
      "source": "grayImage = cv2.cvtColor(colorImage, cv2.COLOR_RGB2GRAY)\nplt.imshow(grayImage,cmap='gray') \nplt.show() ",
      "execution_count": null,
      "outputs": []
    },
    {
      "metadata": {},
      "cell_type": "markdown",
      "source": "<p>2.3 Convert image into rgba (red, green, blue, alpha)</p>\n<p>Lets start by seperating the color channels</p>"
    },
    {
      "metadata": {
        "trusted": true
      },
      "cell_type": "code",
      "source": "b = colorImage[:,:,0]\ng = colorImage[:,:,1]\nr = colorImage[:,:,2]\nrgba = cv2.merge((b,g,r,b)) # meerge will take the color channels and merge them into an image\ncv2.imwrite(\"rgba.png\",rgba) # we will write this to a png, because jpg will omit the aplha channel ",
      "execution_count": null,
      "outputs": []
    },
    {
      "metadata": {},
      "cell_type": "markdown",
      "source": "<h3>3. Blur, dialation, erosion</h3>"
    },
    {
      "metadata": {
        "trusted": true
      },
      "cell_type": "code",
      "source": "image = cv2.imread(\"blur.jpg\",1)\nimage = cv2.cvtColor(image, cv2.COLOR_BGR2RGB) \nplt.imshow(image)\nplt.show()",
      "execution_count": null,
      "outputs": []
    },
    {
      "metadata": {},
      "cell_type": "markdown",
      "source": "<p>3.1 Now lets apply a Gaussian blur to the photo</p> \n<p>We can do this with the <b>GaussianBlur(src, ksize, sigmaX[, dst[, sigmaY[, borderType=BORDER_DEFAULT]]] )</b></p> \n<p>For this example our first parameter is our image, second is our blur amount (x dir, y dir) which should be odd values, and our third is a default value, we just put 0</p>"
    },
    {
      "metadata": {
        "trusted": true
      },
      "cell_type": "code",
      "source": "blur = cv2.GaussianBlur(image, (99,55),0) \nplt.imshow(blur)\nplt.show()",
      "execution_count": null,
      "outputs": []
    },
    {
      "metadata": {},
      "cell_type": "markdown",
      "source": "<p>3.2 Dilation and Erosion</p>\n<p>These are two operations that look to expand or contract foreground pixels of the image to help remove of accentuate small pixel details, such as speckles</p>\n<p><b>Dialation</b> turns black pixels into white pixels, and <b>Erosion</b> turns white pixels into black ones.</p>\n<p><b>Kernal</b> defines where and how to mark a pixel changes by a filter. </p>"
    },
    {
      "metadata": {
        "trusted": true
      },
      "cell_type": "code",
      "source": "# Lets start by making our kernal \nkernal = np.ones((5,5),'uint8') # Note that they have to be oddd values\ndilate = cv2.dilate(image, kernal, iterations=1) # More iteration = more effect\nerode = cv2.erode(image, kernal, iterations=1)\nplt.imshow(dilate)\nplt.show()",
      "execution_count": null,
      "outputs": []
    },
    {
      "metadata": {
        "trusted": true
      },
      "cell_type": "code",
      "source": "plt.imshow(erode)\nplt.show()",
      "execution_count": null,
      "outputs": []
    },
    {
      "metadata": {
        "trusted": true
      },
      "cell_type": "markdown",
      "source": "<p>3.3 Scaling and rotating images</p>"
    },
    {
      "metadata": {
        "trusted": true
      },
      "cell_type": "code",
      "source": "image = cv2.imread(\"players.jpg\",1)\nplt.imshow(cv2.cvtColor(image, cv2.COLOR_BGR2RGB)) # Shorter way to convert image to RGB\nplt.show()",
      "execution_count": null,
      "outputs": []
    },
    {
      "metadata": {},
      "cell_type": "markdown",
      "source": "<p>Now lets scale the image</p>"
    },
    {
      "metadata": {
        "trusted": true
      },
      "cell_type": "code",
      "source": "image_half = cv2.resize(image, (0,0), fx=0.5, fy=0.5)\nplt.imshow(cv2.cvtColor(image_half, cv2.COLOR_BGR2RGB)) # Shorter way to convert image to RGB\nplt.show()",
      "execution_count": null,
      "outputs": []
    },
    {
      "metadata": {
        "trusted": true
      },
      "cell_type": "code",
      "source": "image_stretch = cv2.resize(image, (600,600))\nplt.imshow(cv2.cvtColor(image_stretch, cv2.COLOR_BGR2RGB)) # Shorter way to convert image to RGB\nplt.show()",
      "execution_count": null,
      "outputs": []
    },
    {
      "metadata": {
        "trusted": true
      },
      "cell_type": "code",
      "source": "image_stretch_near = cv2.resize(image, (600,600), interpolation=cv2.INTER_NEAREST)\nplt.imshow(cv2.cvtColor(image_stretch_near, cv2.COLOR_BGR2RGB)) # Shorter way to convert image to RGB\nplt.show()",
      "execution_count": null,
      "outputs": []
    },
    {
      "metadata": {},
      "cell_type": "markdown",
      "source": "<p>Note: run imwrite/imshow to see the scaled pictures better</p>"
    },
    {
      "metadata": {},
      "cell_type": "markdown",
      "source": "<p>Now lets rotate the image</p>"
    },
    {
      "metadata": {
        "trusted": true
      },
      "cell_type": "code",
      "source": "# We need a matrix to perform a rotation\nM = cv2.getRotationMatrix2D((0,0), -30, 1) \n# pass in origin, degrees, and the value of 1",
      "execution_count": null,
      "outputs": []
    },
    {
      "metadata": {
        "trusted": true
      },
      "cell_type": "code",
      "source": "# We pass in out image, matrix and shape of image, given by img.shape\nrotated = cv2.warpAffine(image, M, (image.shape[1], image.shape[0]))\n# Now we can plot again\nplt.imshow(cv2.cvtColor(rotated, cv2.COLOR_BGR2RGB)) # Shorter way to convert image to RGB\nplt.show()",
      "execution_count": null,
      "outputs": []
    },
    {
      "metadata": {
        "trusted": true
      },
      "cell_type": "code",
      "source": "",
      "execution_count": null,
      "outputs": []
    }
  ],
  "metadata": {
    "kernelspec": {
      "name": "python3",
      "display_name": "Python 3",
      "language": "python"
    },
    "language_info": {
      "mimetype": "text/x-python",
      "nbconvert_exporter": "python",
      "name": "python",
      "file_extension": ".py",
      "version": "3.5.4",
      "pygments_lexer": "ipython3",
      "codemirror_mode": {
        "version": 3,
        "name": "ipython"
      }
    }
  },
  "nbformat": 4,
  "nbformat_minor": 4
}