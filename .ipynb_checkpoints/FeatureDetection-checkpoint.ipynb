{
  "cells": [
    {
      "metadata": {
        "collapsed": true
      },
      "cell_type": "markdown",
      "source": "# Feature Detection"
    },
    {
      "metadata": {},
      "cell_type": "markdown",
      "source": "### Things you will learn\n<ul>\n    <li>Face Detection</li>\n    <li>Eye Detection</li>\n</ul>"
    },
    {
      "metadata": {},
      "cell_type": "markdown",
      "source": "### Introduction\n\nFor feature detection, OpenCV utilizes Haar-cascade Detection in order to detect certain features of objects. Haar-cascade Detection essentially is a machine learning model that classifies objects by training the model. Luckily, OpenCV already contains many pre-trained classifiers for face, eyes, smile, etc. These are stored in XML files that are stored in your local machine's opencv/data/haarcascades folder. For this Jupyter notebook, the files are already stored in the workshop folder which we will utilize below."
    },
    {
      "metadata": {},
      "cell_type": "markdown",
      "source": "### Face Detection\n\nLet's import all the necessary modules needed for this part as usual."
    },
    {
      "metadata": {
        "trusted": true
      },
      "cell_type": "code",
      "source": "import numpy as np\nimport cv2\nimport matplotlib.pyplot as plt",
      "execution_count": null,
      "outputs": []
    },
    {
      "metadata": {},
      "cell_type": "markdown",
      "source": "We need to import an image and convert the color to grayscale."
    },
    {
      "metadata": {
        "trusted": true
      },
      "cell_type": "code",
      "source": "img = cv2.imread(\"faces.jpeg\",1)\ngray = cv2.cvtColor(img, cv2.COLOR_BGR2GRAY)\nplt.imshow(cv2.cvtColor(img, cv2.COLOR_BGR2RGB)) #using cv2.cvtColor to reorganize numpy arrays to show proper color\nplt.show()\nplt.imshow(cv2.cvtColor(gray, cv2.COLOR_BGR2RGB))\nplt.show()",
      "execution_count": null,
      "outputs": []
    },
    {
      "metadata": {},
      "cell_type": "markdown",
      "source": "The path to the haarcascades folder can be easily reached by using cv2.data.haarcascades. This will lead directly to the folder with all the XML files of pre-trained classifiers. We also need to find the frontal face model XML file from the folder as well."
    },
    {
      "metadata": {
        "trusted": true
      },
      "cell_type": "code",
      "source": "path = cv2.data.haarcascades + \"haarcascade_frontalface_default.xml\"",
      "execution_count": null,
      "outputs": []
    },
    {
      "metadata": {},
      "cell_type": "markdown",
      "source": "We will now utilize OpenCV's cascade classifier with the frontal face pre-trained model. The CascadeClassifier function loads an XML file that represents a pre-trained model. Once loaded, the variable face_cascade becomes a pre-trained model of the loaded file."
    },
    {
      "metadata": {
        "trusted": true
      },
      "cell_type": "code",
      "source": "face_cascade = cv2.CascadeClassifier(path)",
      "execution_count": null,
      "outputs": []
    },
    {
      "metadata": {},
      "cell_type": "markdown",
      "source": "Now we find the faces in the image. If faces are found, it returns the positions of detected faces as Rect(x,y,w,h). Once we get these locations, we can create a ROI for the face."
    },
    {
      "metadata": {
        "trusted": true
      },
      "cell_type": "code",
      "source": "faces = face_cascade.detectMultiScale(gray, scaleFactor=1.10, minNeighbors=5, minSize=(40,40))\nprint(len(faces))\n\nfaceImg = img\nfor(x, y, w, h) in faces:\n    faceImg = cv2.rectangle(img, (x,y), (x+w, y+h), (0,255,0), 2)\nplt.imshow(cv2.cvtColor(faceImg, cv2.COLOR_BGR2RGB))\nplt.show()",
      "execution_count": null,
      "outputs": []
    },
    {
      "metadata": {},
      "cell_type": "markdown",
      "source": "Here we see that 21 faces of the 25 were detected."
    },
    {
      "metadata": {},
      "cell_type": "markdown",
      "source": "### Eye Detection\nEye detection is the same principle as face detection with a few parameters changed. Let's load the eye model this time."
    },
    {
      "metadata": {
        "trusted": true
      },
      "cell_type": "code",
      "source": "path2 = cv2.data.haarcascades + \"haarcascade_eye.xml\"\neye_cascade = cv2.CascadeClassifier(path2)\nimg2 = cv2.imread(\"faces.jpeg\",1)",
      "execution_count": null,
      "outputs": []
    },
    {
      "metadata": {},
      "cell_type": "markdown",
      "source": "Again, we find the eyes in the image and show their positions with circles."
    },
    {
      "metadata": {
        "trusted": true
      },
      "cell_type": "code",
      "source": "eyes = eye_cascade.detectMultiScale(gray, scaleFactor=1.02, minNeighbors=20, minSize=(10,10))\nprint(len(eyes))\n\neyeImg = img2\nfor(x,y,w,h) in eyes:\n    xc = (x + x+w)/2\n    yc = (y + y+h)/2\n    radius = w/2\n    #draw circle on image\n    eyeImg = cv2.circle(img2, (int(xc), int(yc)), int(radius), (255,0,0), 2)\n    \nplt.imshow(cv2.cvtColor(eyeImg, cv2.COLOR_BGR2RGB))\nplt.show()",
      "execution_count": null,
      "outputs": []
    },
    {
      "metadata": {},
      "cell_type": "markdown",
      "source": "Here we only found 6 eyes total."
    }
  ],
  "metadata": {
    "kernelspec": {
      "name": "python36",
      "display_name": "Python 3.6",
      "language": "python"
    },
    "language_info": {
      "mimetype": "text/x-python",
      "nbconvert_exporter": "python",
      "name": "python",
      "pygments_lexer": "ipython3",
      "version": "3.6.6",
      "file_extension": ".py",
      "codemirror_mode": {
        "version": 3,
        "name": "ipython"
      }
    }
  },
  "nbformat": 4,
  "nbformat_minor": 2
}